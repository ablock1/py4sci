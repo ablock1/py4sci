{
 "cells": [
  {
   "cell_type": "markdown",
   "metadata": {},
   "source": [
    "# 1 - Basics\n",
    "\n",
    "Minimal definition to start some basic codes in Python. For complete material please refeer to offical python documentation\n",
    "\n",
    "https://docs.python.org/3.7/\n",
    "\n",
    "***\n",
    "## Import packages\n",
    "\n",
    "Before to start code in Python we must import all packages that will be used in our code. Examples: Numpy, Matplotlib, SciPy, ...\n",
    "\n",
    "A list of useful packages can be found here https://pythontips.com/2013/07/30/20-python-libraries-you-cant-live-without/.\n",
    "\n",
    "### Syntax\n",
    "```python\n",
    "import package_name\n",
    "```\n",
    "or \n",
    "```python\n",
    "import package_name as alias\n",
    "```\n",
    "***\n",
    "## Read and write (NumPy)\n",
    "\n",
    "Let's import `numpy` package and associate with 'np' alias and `random`.  "
   ]
  },
  {
   "cell_type": "code",
   "execution_count": 4,
   "metadata": {},
   "outputs": [],
   "source": [
    "# import packages\n",
    "import numpy as np"
   ]
  },
  {
   "cell_type": "markdown",
   "metadata": {},
   "source": [
    "Use numpy to save a list of numbers, initially stored in a variable 'a'."
   ]
  },
  {
   "cell_type": "code",
   "execution_count": 28,
   "metadata": {},
   "outputs": [
    {
     "name": "stdout",
     "output_type": "stream",
     "text": [
      "Saved array [0 1 2 3 4 5 6 7 8 9]\n"
     ]
    }
   ],
   "source": [
    "# generate a list of numbers 0-9\n",
    "a = np.arange(10)\n",
    "\n",
    "# save list into a file\n",
    "np.save('test.npy', a)\n",
    "\n",
    "# print 'a' list \n",
    "print('Saved array', a)"
   ]
  },
  {
   "cell_type": "markdown",
   "metadata": {},
   "source": [
    "A file `test.npy` is saved in same directory as this notebook. Let's load this file into a variable called 'b'."
   ]
  },
  {
   "cell_type": "code",
   "execution_count": 29,
   "metadata": {},
   "outputs": [
    {
     "name": "stdout",
     "output_type": "stream",
     "text": [
      "Loaded array [0 1 2 3 4 5 6 7 8 9]\n"
     ]
    }
   ],
   "source": [
    "# load saved file into 'b'\n",
    "b = np.load('test.npy')\n",
    "\n",
    "print('Loaded array', b)"
   ]
  },
  {
   "cell_type": "markdown",
   "metadata": {},
   "source": [
    "One can always use the syntax `help(function)` to print help details about a function or package. Try it "
   ]
  },
  {
   "cell_type": "code",
   "execution_count": null,
   "metadata": {},
   "outputs": [],
   "source": [
    "help(np.save)"
   ]
  },
  {
   "cell_type": "markdown",
   "metadata": {},
   "source": [
    "***\n",
    "\n",
    "## For loop"
   ]
  },
  {
   "cell_type": "code",
   "execution_count": 30,
   "metadata": {},
   "outputs": [],
   "source": [
    "import numpy as np\n",
    "import random"
   ]
  },
  {
   "cell_type": "markdown",
   "metadata": {},
   "source": [
    "Lets create a empty list and using a for loop add random float numbers to tis list."
   ]
  },
  {
   "cell_type": "code",
   "execution_count": 35,
   "metadata": {},
   "outputs": [
    {
     "name": "stdout",
     "output_type": "stream",
     "text": [
      "[0.167076251090987, 0.03471006484511652, 0.17458944373006025, 0.5975493969019973, 0.9069602891456771, 0.8842965836568352, 0.05306146733148642, 0.9941043918629366, 0.9568058155029807, 0.21644977531089726]\n"
     ]
    }
   ],
   "source": [
    "# create a empty list\n",
    "rand_list = []\n",
    "\n",
    "# for loop\n",
    "for r in range(10): \n",
    "    rand_list.append(random.random())\n",
    "\n",
    "print(rand_list)"
   ]
  },
  {
   "cell_type": "markdown",
   "metadata": {},
   "source": [
    "details https://docs.python.org/3.7/tutorial/controlflow.html#for-statements\n",
    "\n",
    "***\n",
    "\n",
    "## If\n",
    "\n",
    "Conditional statment **if** test a conditional expression. "
   ]
  },
  {
   "cell_type": "code",
   "execution_count": 41,
   "metadata": {},
   "outputs": [
    {
     "name": "stdout",
     "output_type": "stream",
     "text": [
      "var is zero!\n"
     ]
    }
   ],
   "source": [
    "# declare a variable\n",
    "var = 0\n",
    "\n",
    "# Is 'var' equal to 0?\n",
    "if var == 0:\n",
    "    print('var is zero!')\n",
    "else:\n",
    "    print('var is not zero, but {}'.format(var))"
   ]
  },
  {
   "cell_type": "markdown",
   "metadata": {},
   "source": [
    "Try change value of 'var' above and rerun the cell.\n",
    "\n",
    "details https://docs.python.org/3.7/tutorial/controlflow.html#if-statements\n",
    "\n",
    "## Read and write CSV (Pandas)"
   ]
  },
  {
   "cell_type": "code",
   "execution_count": 115,
   "metadata": {},
   "outputs": [],
   "source": [
    "import requests\n",
    "import pandas as pd"
   ]
  },
  {
   "cell_type": "markdown",
   "metadata": {},
   "source": [
    "Let's download a CSV file from HTML address using `requests` and save it as a local file. "
   ]
  },
  {
   "cell_type": "code",
   "execution_count": 109,
   "metadata": {},
   "outputs": [],
   "source": [
    "# load a file form URL\n",
    "r = requests.get(\"https://covid.ourworldindata.org/data/total_cases.csv\")\n",
    "\n",
    "# Save locally as a CSV file\n",
    "with open('CovidTotalCases.csv', 'wb') as f:\n",
    "    f.write(r.content)"
   ]
  },
  {
   "cell_type": "markdown",
   "metadata": {},
   "source": [
    "Using `Pandas` let open the local CSV file and look at the 5 last rows entries."
   ]
  },
  {
   "cell_type": "code",
   "execution_count": 126,
   "metadata": {},
   "outputs": [
    {
     "data": {
      "text/html": [
       "<div>\n",
       "<style scoped>\n",
       "    .dataframe tbody tr th:only-of-type {\n",
       "        vertical-align: middle;\n",
       "    }\n",
       "\n",
       "    .dataframe tbody tr th {\n",
       "        vertical-align: top;\n",
       "    }\n",
       "\n",
       "    .dataframe thead th {\n",
       "        text-align: right;\n",
       "    }\n",
       "</style>\n",
       "<table border=\"1\" class=\"dataframe\">\n",
       "  <thead>\n",
       "    <tr style=\"text-align: right;\">\n",
       "      <th></th>\n",
       "      <th>date</th>\n",
       "      <th>World</th>\n",
       "      <th>Afghanistan</th>\n",
       "      <th>Albania</th>\n",
       "      <th>Algeria</th>\n",
       "      <th>Andorra</th>\n",
       "      <th>Antigua and Barbuda</th>\n",
       "      <th>Argentina</th>\n",
       "      <th>Armenia</th>\n",
       "      <th>Aruba</th>\n",
       "      <th>...</th>\n",
       "      <th>Ukraine</th>\n",
       "      <th>United Arab Emirates</th>\n",
       "      <th>United Kingdom</th>\n",
       "      <th>United States</th>\n",
       "      <th>United States Virgin Islands</th>\n",
       "      <th>Uruguay</th>\n",
       "      <th>Uzbekistan</th>\n",
       "      <th>Vatican</th>\n",
       "      <th>Venezuela</th>\n",
       "      <th>Vietnam</th>\n",
       "    </tr>\n",
       "  </thead>\n",
       "  <tbody>\n",
       "    <tr>\n",
       "      <th>52</th>\n",
       "      <td>2020-03-13</td>\n",
       "      <td>132758</td>\n",
       "      <td>7.0</td>\n",
       "      <td>23.0</td>\n",
       "      <td>25.0</td>\n",
       "      <td>1.0</td>\n",
       "      <td>NaN</td>\n",
       "      <td>31.0</td>\n",
       "      <td>1.0</td>\n",
       "      <td>NaN</td>\n",
       "      <td>...</td>\n",
       "      <td>3.0</td>\n",
       "      <td>85.0</td>\n",
       "      <td>594.0</td>\n",
       "      <td>1264.0</td>\n",
       "      <td>NaN</td>\n",
       "      <td>NaN</td>\n",
       "      <td>NaN</td>\n",
       "      <td>1.0</td>\n",
       "      <td>NaN</td>\n",
       "      <td>39.0</td>\n",
       "    </tr>\n",
       "    <tr>\n",
       "      <th>53</th>\n",
       "      <td>2020-03-14</td>\n",
       "      <td>142534</td>\n",
       "      <td>7.0</td>\n",
       "      <td>33.0</td>\n",
       "      <td>26.0</td>\n",
       "      <td>2.0</td>\n",
       "      <td>1.0</td>\n",
       "      <td>34.0</td>\n",
       "      <td>8.0</td>\n",
       "      <td>NaN</td>\n",
       "      <td>...</td>\n",
       "      <td>3.0</td>\n",
       "      <td>85.0</td>\n",
       "      <td>802.0</td>\n",
       "      <td>1678.0</td>\n",
       "      <td>NaN</td>\n",
       "      <td>NaN</td>\n",
       "      <td>NaN</td>\n",
       "      <td>1.0</td>\n",
       "      <td>2.0</td>\n",
       "      <td>48.0</td>\n",
       "    </tr>\n",
       "    <tr>\n",
       "      <th>54</th>\n",
       "      <td>2020-03-15</td>\n",
       "      <td>153517</td>\n",
       "      <td>10.0</td>\n",
       "      <td>38.0</td>\n",
       "      <td>37.0</td>\n",
       "      <td>2.0</td>\n",
       "      <td>1.0</td>\n",
       "      <td>45.0</td>\n",
       "      <td>8.0</td>\n",
       "      <td>NaN</td>\n",
       "      <td>...</td>\n",
       "      <td>3.0</td>\n",
       "      <td>85.0</td>\n",
       "      <td>1144.0</td>\n",
       "      <td>1678.0</td>\n",
       "      <td>NaN</td>\n",
       "      <td>NaN</td>\n",
       "      <td>NaN</td>\n",
       "      <td>1.0</td>\n",
       "      <td>2.0</td>\n",
       "      <td>53.0</td>\n",
       "    </tr>\n",
       "    <tr>\n",
       "      <th>55</th>\n",
       "      <td>2020-03-16</td>\n",
       "      <td>167506</td>\n",
       "      <td>16.0</td>\n",
       "      <td>42.0</td>\n",
       "      <td>49.0</td>\n",
       "      <td>2.0</td>\n",
       "      <td>1.0</td>\n",
       "      <td>56.0</td>\n",
       "      <td>26.0</td>\n",
       "      <td>NaN</td>\n",
       "      <td>...</td>\n",
       "      <td>3.0</td>\n",
       "      <td>98.0</td>\n",
       "      <td>1395.0</td>\n",
       "      <td>1678.0</td>\n",
       "      <td>NaN</td>\n",
       "      <td>4.0</td>\n",
       "      <td>4.0</td>\n",
       "      <td>1.0</td>\n",
       "      <td>2.0</td>\n",
       "      <td>57.0</td>\n",
       "    </tr>\n",
       "    <tr>\n",
       "      <th>56</th>\n",
       "      <td>2020-03-17</td>\n",
       "      <td>179112</td>\n",
       "      <td>21.0</td>\n",
       "      <td>51.0</td>\n",
       "      <td>60.0</td>\n",
       "      <td>14.0</td>\n",
       "      <td>1.0</td>\n",
       "      <td>65.0</td>\n",
       "      <td>52.0</td>\n",
       "      <td>2.0</td>\n",
       "      <td>...</td>\n",
       "      <td>7.0</td>\n",
       "      <td>98.0</td>\n",
       "      <td>1547.0</td>\n",
       "      <td>3503.0</td>\n",
       "      <td>2.0</td>\n",
       "      <td>6.0</td>\n",
       "      <td>4.0</td>\n",
       "      <td>1.0</td>\n",
       "      <td>33.0</td>\n",
       "      <td>61.0</td>\n",
       "    </tr>\n",
       "  </tbody>\n",
       "</table>\n",
       "<p>5 rows × 162 columns</p>\n",
       "</div>"
      ],
      "text/plain": [
       "          date   World  Afghanistan  Albania  Algeria  Andorra  \\\n",
       "52  2020-03-13  132758          7.0     23.0     25.0      1.0   \n",
       "53  2020-03-14  142534          7.0     33.0     26.0      2.0   \n",
       "54  2020-03-15  153517         10.0     38.0     37.0      2.0   \n",
       "55  2020-03-16  167506         16.0     42.0     49.0      2.0   \n",
       "56  2020-03-17  179112         21.0     51.0     60.0     14.0   \n",
       "\n",
       "    Antigua and Barbuda  Argentina  Armenia  Aruba  ...  Ukraine  \\\n",
       "52                  NaN       31.0      1.0    NaN  ...      3.0   \n",
       "53                  1.0       34.0      8.0    NaN  ...      3.0   \n",
       "54                  1.0       45.0      8.0    NaN  ...      3.0   \n",
       "55                  1.0       56.0     26.0    NaN  ...      3.0   \n",
       "56                  1.0       65.0     52.0    2.0  ...      7.0   \n",
       "\n",
       "    United Arab Emirates  United Kingdom  United States  \\\n",
       "52                  85.0           594.0         1264.0   \n",
       "53                  85.0           802.0         1678.0   \n",
       "54                  85.0          1144.0         1678.0   \n",
       "55                  98.0          1395.0         1678.0   \n",
       "56                  98.0          1547.0         3503.0   \n",
       "\n",
       "    United States Virgin Islands  Uruguay  Uzbekistan  Vatican  Venezuela  \\\n",
       "52                           NaN      NaN         NaN      1.0        NaN   \n",
       "53                           NaN      NaN         NaN      1.0        2.0   \n",
       "54                           NaN      NaN         NaN      1.0        2.0   \n",
       "55                           NaN      4.0         4.0      1.0        2.0   \n",
       "56                           2.0      6.0         4.0      1.0       33.0   \n",
       "\n",
       "    Vietnam  \n",
       "52     39.0  \n",
       "53     48.0  \n",
       "54     53.0  \n",
       "55     57.0  \n",
       "56     61.0  \n",
       "\n",
       "[5 rows x 162 columns]"
      ]
     },
     "execution_count": 126,
     "metadata": {},
     "output_type": "execute_result"
    }
   ],
   "source": [
    "# Read CSV file\n",
    "load_csv = pd.read_csv('CovidTotalCases.csv', delimiter=',')\n",
    "\n",
    "# pandas head() shows first 5 entries\n",
    "load_csv[-5:]"
   ]
  },
  {
   "cell_type": "code",
   "execution_count": null,
   "metadata": {},
   "outputs": [],
   "source": []
  }
 ],
 "metadata": {
  "kernelspec": {
   "display_name": "Python 3",
   "language": "python",
   "name": "python3"
  },
  "language_info": {
   "codemirror_mode": {
    "name": "ipython",
    "version": 3
   },
   "file_extension": ".py",
   "mimetype": "text/x-python",
   "name": "python",
   "nbconvert_exporter": "python",
   "pygments_lexer": "ipython3",
   "version": "3.7.6"
  }
 },
 "nbformat": 4,
 "nbformat_minor": 4
}
